{
 "cells": [
  {
   "metadata": {
    "ExecuteTime": {
     "end_time": "2024-05-04T06:12:30.369620Z",
     "start_time": "2024-05-04T06:12:30.130366Z"
    }
   },
   "cell_type": "code",
   "source": [
    "import torch\n",
    "import torch.nn as nn\n",
    "import torch.nn.functional as F\n",
    "import torch.optim as optim\n",
    "\n",
    "A = torch.tensor([\n",
    "    [0, 0, 0, 0, 0, 0],\n",
    "    [0, 1, 1, 1, 1, 0],\n",
    "    [0, 1, 2, 2, 1, 0],\n",
    "    [0, 1, 2, 2, 1, 0],\n",
    "    [0, 1, 1, 1, 1, 0],\n",
    "    [0, 0, 0, 0, 0, 0]\n",
    "], dtype=torch.float32).unsqueeze(0).unsqueeze(0)\n",
    "\n",
    "B = torch.tensor([\n",
    "    [0, 0, 0, 0, 0, 0],\n",
    "    [1, 1, 1, 1, 1, 1],\n",
    "    [2, 2, 1, 1, 2, 2],\n",
    "    [2, 2, 1, 1, 2, 2],\n",
    "    [1, 1, 1, 1, 1, 1],\n",
    "    [0, 0, 0, 0, 0, 0],\n",
    "], dtype=torch.float32).unsqueeze(0).unsqueeze(0)\n",
    "\n",
    "\n",
    "class ConvNet(nn.Module):\n",
    "    def __init__(self):\n",
    "        super(ConvNet, self).__init__()\n",
    "        self.conv1 = nn.Conv2d(1, 1, kernel_size=3, padding=1)\n",
    "        self.conv2 = nn.Conv2d(1, 1, kernel_size=3, padding=1)\n",
    "\n",
    "    def forward(self, x):\n",
    "        x = F.relu(self.conv1(x))\n",
    "        x = self.conv2(x)\n",
    "        return x\n",
    "\n",
    "model = ConvNet()\n",
    "optimizer = optim.Adam(model.parameters(), lr=0.01)\n",
    "epochs = 500\n",
    "for epoch in range(epochs):\n",
    "    optimizer.zero_grad()\n",
    "    output = model(A)\n",
    "    loss = F.mse_loss(output, B)\n",
    "    loss.backward()\n",
    "    optimizer.step()\n",
    "    if epoch % 100 == 0:\n",
    "        print(f'Epoch {epoch}: loss = {loss.item()}')\n",
    "\n",
    "final_output = model(A)\n",
    "print(\"Final output without rounding:\\n\", final_output)\n",
    "rounded_output = torch.round(final_output)\n",
    "print(\"Final rounded output:\\n\", rounded_output)\n"
   ],
   "id": "587bca49f307c4ef",
   "outputs": [
    {
     "name": "stdout",
     "output_type": "stream",
     "text": [
      "Epoch 0: loss = 0.9401260018348694\n",
      "Epoch 100: loss = 0.18587777018547058\n",
      "Epoch 200: loss = 0.09854262322187424\n",
      "Epoch 300: loss = 0.02536400593817234\n",
      "Epoch 400: loss = 0.007136618718504906\n",
      "Final output without rounding:\n",
      " tensor([[[[-0.0441, -0.0021,  0.0406,  0.0207, -0.0232, -0.0294],\n",
      "          [ 1.0941,  1.0192,  0.9437,  0.9431,  1.0114,  1.0801],\n",
      "          [ 1.9932,  1.9659,  1.0456,  1.0798,  1.9788,  1.9712],\n",
      "          [ 1.8831,  1.9454,  1.0537,  1.0172,  1.9469,  1.9224],\n",
      "          [ 1.1610,  1.1030,  0.9275,  0.9337,  1.0906,  1.1240],\n",
      "          [-0.0638, -0.0222, -0.0462, -0.0359, -0.0133, -0.0866]]]],\n",
      "       grad_fn=<ConvolutionBackward0>)\n",
      "Final rounded output:\n",
      " tensor([[[[-0., -0., 0., 0., -0., -0.],\n",
      "          [1., 1., 1., 1., 1., 1.],\n",
      "          [2., 2., 1., 1., 2., 2.],\n",
      "          [2., 2., 1., 1., 2., 2.],\n",
      "          [1., 1., 1., 1., 1., 1.],\n",
      "          [-0., -0., -0., -0., -0., -0.]]]], grad_fn=<RoundBackward0>)\n"
     ]
    }
   ],
   "execution_count": 13
  },
  {
   "metadata": {
    "ExecuteTime": {
     "end_time": "2024-05-04T06:10:43.228386Z",
     "start_time": "2024-05-04T06:10:43.223590Z"
    }
   },
   "cell_type": "code",
   "source": "B",
   "id": "744e7ecdd687e8c1",
   "outputs": [
    {
     "data": {
      "text/plain": [
       "tensor([[[[0., 0., 0., 0., 0., 0.],\n",
       "          [1., 1., 1., 1., 1., 1.],\n",
       "          [2., 2., 1., 1., 2., 2.],\n",
       "          [2., 2., 1., 1., 2., 2.],\n",
       "          [1., 1., 1., 1., 1., 1.],\n",
       "          [0., 0., 0., 0., 0., 0.]]]])"
      ]
     },
     "execution_count": 12,
     "metadata": {},
     "output_type": "execute_result"
    }
   ],
   "execution_count": 12
  },
  {
   "metadata": {},
   "cell_type": "code",
   "outputs": [],
   "execution_count": null,
   "source": "",
   "id": "e4897fda76393713"
  }
 ],
 "metadata": {
  "kernelspec": {
   "display_name": "Python 3",
   "language": "python",
   "name": "python3"
  },
  "language_info": {
   "codemirror_mode": {
    "name": "ipython",
    "version": 2
   },
   "file_extension": ".py",
   "mimetype": "text/x-python",
   "name": "python",
   "nbconvert_exporter": "python",
   "pygments_lexer": "ipython2",
   "version": "2.7.6"
  }
 },
 "nbformat": 4,
 "nbformat_minor": 5
}
