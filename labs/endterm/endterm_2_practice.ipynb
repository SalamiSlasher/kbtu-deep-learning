{
 "cells": [
  {
   "cell_type": "code",
   "metadata": {
    "id": "AijEvV9x8Cdo",
    "ExecuteTime": {
     "end_time": "2024-05-05T07:24:06.654673Z",
     "start_time": "2024-05-05T07:24:06.649664Z"
    }
   },
   "source": [
    "import cv2\n",
    "import matplotlib.pyplot as plt\n",
    "import numpy as np\n",
    "import pandas as pd\n",
    "from torch.optim import SGD\n",
    "import time\n",
    "import os"
   ],
   "outputs": [],
   "execution_count": 3
  },
  {
   "cell_type": "code",
   "metadata": {
    "id": "B5Q_fNQPHU3Q",
    "ExecuteTime": {
     "end_time": "2024-05-05T07:27:16.017782Z",
     "start_time": "2024-05-05T07:27:16.011280Z"
    }
   },
   "source": [
    "#https://drive.google.com/drive/folders/1nfQZe8OYJNzGYfV8D3bprSzmFQoSkuaN?usp=drive_link\n",
    "#directory = '/content/drive/MyDrive/DL/fish'\n",
    "directory = 'data'\n",
    "\n",
    "train_files = []\n",
    "target_files = []\n",
    "fish_types = 'Black Sea Sprat'\n",
    "for file in os.listdir(os.path.join(directory, fish_types)):\n",
    "    train_files.append(os.path.join(directory, 'Black Sea Sprat', file))\n",
    "    target_files.append(os.path.join(directory,  'Black Sea Sprat GT', file))\n",
    "\n",
    "len(train_files), len(target_files)"
   ],
   "outputs": [
    {
     "data": {
      "text/plain": [
       "(1000, 1000)"
      ]
     },
     "execution_count": 12,
     "metadata": {},
     "output_type": "execute_result"
    }
   ],
   "execution_count": 12
  },
  {
   "cell_type": "code",
   "metadata": {
    "colab": {
     "base_uri": "https://localhost:8080/",
     "height": 206
    },
    "id": "x_lioPVbHU8W",
    "outputId": "e8cf593e-d113-485d-dd7e-4eacbbdb0ca7",
    "ExecuteTime": {
     "end_time": "2024-05-05T07:27:41.315393Z",
     "start_time": "2024-05-05T07:27:41.307484Z"
    }
   },
   "source": [
    "df = pd.DataFrame({'img' : train_files, 'mask' : target_files})\n",
    "df.head()"
   ],
   "outputs": [
    {
     "data": {
      "text/plain": [
       "                              img                               mask\n",
       "0  data\\Black Sea Sprat\\00001.png  data\\Black Sea Sprat GT\\00001.png\n",
       "1  data\\Black Sea Sprat\\00002.png  data\\Black Sea Sprat GT\\00002.png\n",
       "2  data\\Black Sea Sprat\\00003.png  data\\Black Sea Sprat GT\\00003.png\n",
       "3  data\\Black Sea Sprat\\00004.png  data\\Black Sea Sprat GT\\00004.png\n",
       "4  data\\Black Sea Sprat\\00005.png  data\\Black Sea Sprat GT\\00005.png"
      ],
      "text/html": [
       "<div>\n",
       "<style scoped>\n",
       "    .dataframe tbody tr th:only-of-type {\n",
       "        vertical-align: middle;\n",
       "    }\n",
       "\n",
       "    .dataframe tbody tr th {\n",
       "        vertical-align: top;\n",
       "    }\n",
       "\n",
       "    .dataframe thead th {\n",
       "        text-align: right;\n",
       "    }\n",
       "</style>\n",
       "<table border=\"1\" class=\"dataframe\">\n",
       "  <thead>\n",
       "    <tr style=\"text-align: right;\">\n",
       "      <th></th>\n",
       "      <th>img</th>\n",
       "      <th>mask</th>\n",
       "    </tr>\n",
       "  </thead>\n",
       "  <tbody>\n",
       "    <tr>\n",
       "      <th>0</th>\n",
       "      <td>data\\Black Sea Sprat\\00001.png</td>\n",
       "      <td>data\\Black Sea Sprat GT\\00001.png</td>\n",
       "    </tr>\n",
       "    <tr>\n",
       "      <th>1</th>\n",
       "      <td>data\\Black Sea Sprat\\00002.png</td>\n",
       "      <td>data\\Black Sea Sprat GT\\00002.png</td>\n",
       "    </tr>\n",
       "    <tr>\n",
       "      <th>2</th>\n",
       "      <td>data\\Black Sea Sprat\\00003.png</td>\n",
       "      <td>data\\Black Sea Sprat GT\\00003.png</td>\n",
       "    </tr>\n",
       "    <tr>\n",
       "      <th>3</th>\n",
       "      <td>data\\Black Sea Sprat\\00004.png</td>\n",
       "      <td>data\\Black Sea Sprat GT\\00004.png</td>\n",
       "    </tr>\n",
       "    <tr>\n",
       "      <th>4</th>\n",
       "      <td>data\\Black Sea Sprat\\00005.png</td>\n",
       "      <td>data\\Black Sea Sprat GT\\00005.png</td>\n",
       "    </tr>\n",
       "  </tbody>\n",
       "</table>\n",
       "</div>"
      ]
     },
     "execution_count": 13,
     "metadata": {},
     "output_type": "execute_result"
    }
   ],
   "execution_count": 13
  },
  {
   "cell_type": "code",
   "metadata": {
    "id": "tObGho77Iotq",
    "ExecuteTime": {
     "end_time": "2024-05-05T07:28:06.208084Z",
     "start_time": "2024-05-05T07:28:06.204580Z"
    }
   },
   "source": [
    "df1 = pd.DataFrame()"
   ],
   "outputs": [],
   "execution_count": 14
  },
  {
   "cell_type": "code",
   "metadata": {
    "id": "SZPIDMWcMTtC",
    "ExecuteTime": {
     "end_time": "2024-05-05T07:28:06.478363Z",
     "start_time": "2024-05-05T07:28:06.475861Z"
    }
   },
   "source": [
    "from tqdm import tqdm"
   ],
   "outputs": [],
   "execution_count": 15
  },
  {
   "cell_type": "code",
   "metadata": {
    "colab": {
     "base_uri": "https://localhost:8080/",
     "height": 35
    },
    "id": "pfiOAl1ZMhCn",
    "outputId": "0c026bac-2149-4803-b3b4-7c67f5824200",
    "ExecuteTime": {
     "end_time": "2024-05-05T07:28:07.870514Z",
     "start_time": "2024-05-05T07:28:07.867112Z"
    }
   },
   "source": [
    "(df['img'][0])"
   ],
   "outputs": [
    {
     "data": {
      "text/plain": [
       "'data\\\\Black Sea Sprat\\\\00001.png'"
      ]
     },
     "execution_count": 16,
     "metadata": {},
     "output_type": "execute_result"
    }
   ],
   "execution_count": 16
  },
  {
   "cell_type": "code",
   "metadata": {
    "colab": {
     "base_uri": "https://localhost:8080/"
    },
    "id": "27UhVr0-HVCv",
    "outputId": "4d2f2eb3-c3f1-48d1-8cb3-16bea8554cdc",
    "ExecuteTime": {
     "end_time": "2024-05-05T07:28:58.769610Z",
     "start_time": "2024-05-05T07:28:55.707306Z"
    }
   },
   "source": [
    "img = []\n",
    "for ind in tqdm(range(len(df['img']))):\n",
    "    origImage = cv2.imread(df['img'][ind])\n",
    "    origImage = cv2.resize(origImage, (64, 64))\n",
    "    img.append(origImage)\n",
    "df1['img'] = img"
   ],
   "outputs": [
    {
     "name": "stderr",
     "output_type": "stream",
     "text": [
      "100%|██████████| 1000/1000 [00:03<00:00, 327.25it/s]\n"
     ]
    }
   ],
   "execution_count": 18
  },
  {
   "cell_type": "code",
   "metadata": {
    "colab": {
     "base_uri": "https://localhost:8080/",
     "height": 450
    },
    "id": "2ZXTbTQNd2If",
    "outputId": "b336b724-e623-4af8-d7ff-0628ee991940",
    "ExecuteTime": {
     "end_time": "2024-05-05T07:29:00.429473Z",
     "start_time": "2024-05-05T07:29:00.342850Z"
    }
   },
   "source": [
    "plt.imshow(img[0])"
   ],
   "outputs": [
    {
     "data": {
      "text/plain": [
       "<matplotlib.image.AxesImage at 0x28672c39650>"
      ]
     },
     "execution_count": 19,
     "metadata": {},
     "output_type": "execute_result"
    },
    {
     "data": {
      "text/plain": [
       "<Figure size 640x480 with 1 Axes>"
      ],
      "image/png": "[encoded data removed]"
     },
     "metadata": {},
     "output_type": "display_data"
    }
   ],
   "execution_count": 19
  },
  {
   "metadata": {
    "ExecuteTime": {
     "end_time": "2024-05-05T07:29:33.930885Z",
     "start_time": "2024-05-05T07:29:32.466136Z"
    }
   },
   "cell_type": "code",
   "source": "df1.sample(5)",
   "outputs": [
    {
     "data": {
      "text/plain": [
       "                                                   img\n",
       "340  [[[0, 0, 0], [0, 0, 0], [0, 0, 0], [0, 0, 0], ...\n",
       "93   [[[0, 0, 0], [0, 0, 0], [0, 0, 0], [0, 0, 0], ...\n",
       "309  [[[0, 0, 0], [0, 0, 0], [0, 0, 0], [0, 0, 0], ...\n",
       "134  [[[0, 0, 0], [0, 0, 0], [0, 0, 0], [0, 0, 0], ...\n",
       "203  [[[0, 0, 0], [0, 0, 0], [0, 0, 0], [0, 0, 0], ..."
      ],
      "text/html": [
       "<div>\n",
       "<style scoped>\n",
       "    .dataframe tbody tr th:only-of-type {\n",
       "        vertical-align: middle;\n",
       "    }\n",
       "\n",
       "    .dataframe tbody tr th {\n",
       "        vertical-align: top;\n",
       "    }\n",
       "\n",
       "    .dataframe thead th {\n",
       "        text-align: right;\n",
       "    }\n",
       "</style>\n",
       "<table border=\"1\" class=\"dataframe\">\n",
       "  <thead>\n",
       "    <tr style=\"text-align: right;\">\n",
       "      <th></th>\n",
       "      <th>img</th>\n",
       "    </tr>\n",
       "  </thead>\n",
       "  <tbody>\n",
       "    <tr>\n",
       "      <th>340</th>\n",
       "      <td>[[[0, 0, 0], [0, 0, 0], [0, 0, 0], [0, 0, 0], ...</td>\n",
       "    </tr>\n",
       "    <tr>\n",
       "      <th>93</th>\n",
       "      <td>[[[0, 0, 0], [0, 0, 0], [0, 0, 0], [0, 0, 0], ...</td>\n",
       "    </tr>\n",
       "    <tr>\n",
       "      <th>309</th>\n",
       "      <td>[[[0, 0, 0], [0, 0, 0], [0, 0, 0], [0, 0, 0], ...</td>\n",
       "    </tr>\n",
       "    <tr>\n",
       "      <th>134</th>\n",
       "      <td>[[[0, 0, 0], [0, 0, 0], [0, 0, 0], [0, 0, 0], ...</td>\n",
       "    </tr>\n",
       "    <tr>\n",
       "      <th>203</th>\n",
       "      <td>[[[0, 0, 0], [0, 0, 0], [0, 0, 0], [0, 0, 0], ...</td>\n",
       "    </tr>\n",
       "  </tbody>\n",
       "</table>\n",
       "</div>"
      ]
     },
     "execution_count": 21,
     "metadata": {},
     "output_type": "execute_result"
    }
   ],
   "execution_count": 21
  },
  {
   "cell_type": "code",
   "metadata": {
    "colab": {
     "base_uri": "https://localhost:8080/",
     "height": 35
    },
    "id": "qp0qxreXdGxu",
    "outputId": "52fee067-10a9-4664-abf8-9de18bb50021",
    "ExecuteTime": {
     "end_time": "2024-05-05T07:29:45.530309Z",
     "start_time": "2024-05-05T07:29:45.526802Z"
    }
   },
   "source": [
    "(df['mask'][0])"
   ],
   "outputs": [
    {
     "data": {
      "text/plain": [
       "'data\\\\Black Sea Sprat GT\\\\00001.png'"
      ]
     },
     "execution_count": 22,
     "metadata": {},
     "output_type": "execute_result"
    }
   ],
   "execution_count": 22
  },
  {
   "cell_type": "code",
   "metadata": {
    "colab": {
     "base_uri": "https://localhost:8080/"
    },
    "id": "wnfMKC_0IH0Y",
    "outputId": "7ef3cc0d-014d-476c-e36e-d7c2ded8854d",
    "ExecuteTime": {
     "end_time": "2024-05-05T07:29:54.942055Z",
     "start_time": "2024-05-05T07:29:54.388277Z"
    }
   },
   "source": [
    "mask = []\n",
    "for ind in tqdm(range(len(df['mask']))):\n",
    "    origImage = cv2.imread(df['mask'][ind])\n",
    "    origImage = cv2.cvtColor(origImage, cv2.COLOR_BGR2GRAY, )\n",
    "    origImage = cv2.resize(origImage, (64, 64))\n",
    "    mask.append((origImage>0.5)**2)\n",
    "df1['mask'] = mask"
   ],
   "outputs": [
    {
     "name": "stderr",
     "output_type": "stream",
     "text": [
      "100%|██████████| 1000/1000 [00:00<00:00, 1821.07it/s]\n"
     ]
    }
   ],
   "execution_count": 23
  },
  {
   "cell_type": "code",
   "metadata": {
    "colab": {
     "base_uri": "https://localhost:8080/",
     "height": 450
    },
    "id": "_rvmMP1kgjE9",
    "outputId": "844af068-5acd-4025-e819-57bf8ba9e401",
    "ExecuteTime": {
     "end_time": "2024-05-05T07:30:33.854366Z",
     "start_time": "2024-05-05T07:30:33.789300Z"
    }
   },
   "source": [
    "plt.imshow(mask[0])"
   ],
   "outputs": [
    {
     "data": {
      "text/plain": [
       "<matplotlib.image.AxesImage at 0x28672d61650>"
      ]
     },
     "execution_count": 24,
     "metadata": {},
     "output_type": "execute_result"
    },
    {
     "data": {
      "text/plain": [
       "<Figure size 640x480 with 1 Axes>"
      ],
      "image/png": "[encoded data removed]"
     },
     "metadata": {},
     "output_type": "display_data"
    }
   ],
   "execution_count": 24
  },
  {
   "cell_type": "code",
   "metadata": {
    "id": "zgBBRvgYBN6T",
    "ExecuteTime": {
     "end_time": "2024-05-05T07:31:26.245670Z",
     "start_time": "2024-05-05T07:31:26.242184Z"
    }
   },
   "source": [
    "X_train, X_test = img[:800], img[800:]\n",
    "y_train, y_test = mask[:800], mask[800:]\n",
    "type(X_test), type(y_test)"
   ],
   "outputs": [
    {
     "data": {
      "text/plain": [
       "(list, list)"
      ]
     },
     "execution_count": 27,
     "metadata": {},
     "output_type": "execute_result"
    }
   ],
   "execution_count": 27
  },
  {
   "cell_type": "markdown",
   "metadata": {
    "id": "Xj9hD953pwMa"
   },
   "source": [
    "Task 1 (3 points):\n",
    "    You need to add 3 affine transformations to increase the number of train set"
   ]
  },
  {
   "cell_type": "code",
   "metadata": {
    "id": "0aPMdCwlBjc4",
    "ExecuteTime": {
     "end_time": "2024-05-05T07:56:06.223881Z",
     "start_time": "2024-05-05T07:56:06.218867Z"
    }
   },
   "source": [
    "import torch\n",
    "from torch.utils.data import Dataset\n",
    "from torchvision import transforms\n",
    "from PIL import Image\n",
    "\n",
    "class MyDataset(Dataset):\n",
    "    def __init__(self, data, targets, transform=None, target_transform=None):\n",
    "        self.data = data\n",
    "        self.targets = targets\n",
    "        self.transform = transform\n",
    "        self.target_transform = target_transform\n",
    "\n",
    "    def __getitem__(self, index):\n",
    "        image = Image.fromarray(self.data[index])\n",
    "        target = Image.fromarray(self.targets[index])\n",
    "\n",
    "        if self.transform:\n",
    "            image = self.transform(image)\n",
    "        if self.target_transform:\n",
    "            target = self.target_transform(target)\n",
    "\n",
    "        return image, target\n",
    "\n",
    "    def __len__(self):\n",
    "        return len(self.data)\n",
    "\n",
    "\n",
    "\n",
    "# Define your custom transformations\n",
    "def get_transform(train):\n",
    "    transform_list = [\n",
    "        transforms.ToTensor(),\n",
    "        transforms.Normalize(mean=[0.485, 0.456, 0.406], std=[0.229, 0.224, 0.225])\n",
    "    ]\n",
    "\n",
    "    if train:\n",
    "        transform_list = [\n",
    "            transforms.RandomRotation(30),\n",
    "            transforms.RandomResizedCrop(64, scale=(0.8, 1.0), ratio=(0.75, 1.33)),\n",
    "            transforms.RandomHorizontalFlip()\n",
    "        ] + transform_list\n",
    "\n",
    "    return transforms.Compose(transform_list)\n",
    "\n",
    "def get_mask_transform():\n",
    "    return transforms.Compose([\n",
    "        transforms.ToTensor()\n",
    "    ])"
   ],
   "outputs": [],
   "execution_count": 37
  },
  {
   "cell_type": "code",
   "metadata": {
    "id": "FR-1a9cECirG",
    "ExecuteTime": {
     "end_time": "2024-05-05T07:56:09.633348Z",
     "start_time": "2024-05-05T07:56:09.346857Z"
    }
   },
   "source": [
    "from torch.utils.data import DataLoader\n",
    "import torchvision.transforms as transforms\n",
    "\n",
    "# Assuming MyDataset and get_transform functions are defined elsewhere\n",
    "\n",
    "# Assuming X_train, y_train, X_test, and y_test are numpy arrays or lists\n",
    "\n",
    "# Create train and validation datasets\n",
    "train_dataset = MyDataset(X_train, y_train, get_transform(True), get_mask_transform())\n",
    "val_dataset = MyDataset(X_test, y_test, get_transform(False), get_mask_transform())\n",
    "\n",
    "\n",
    "# Create data loaders\n",
    "train_loader = DataLoader(train_dataset, batch_size=4, shuffle=True)\n",
    "val_loader = DataLoader(val_dataset, batch_size=4)\n",
    "\n",
    "# Example usage in training loop\n",
    "for batch in train_loader:\n",
    "    images, labels = batch\n",
    "    # Your training code here\n",
    "\n",
    "# Example usage in validation loop\n",
    "for batch in val_loader:\n",
    "    images, labels = batch\n",
    "    # Your validation code here\n"
   ],
   "outputs": [],
   "execution_count": 38
  },
  {
   "cell_type": "code",
   "metadata": {
    "colab": {
     "base_uri": "https://localhost:8080/"
    },
    "id": "EjMZHdEtCke4",
    "outputId": "7a77b924-4a06-4640-8a92-3ced380b8274",
    "ExecuteTime": {
     "end_time": "2024-05-05T07:56:20.484777Z",
     "start_time": "2024-05-05T07:56:20.451231Z"
    }
   },
   "source": [
    "import tqdm\n",
    "for img,target in tqdm.tqdm(val_loader):\n",
    "    z = 1"
   ],
   "outputs": [
    {
     "name": "stderr",
     "output_type": "stream",
     "text": [
      "100%|██████████| 50/50 [00:00<00:00, 1638.00it/s]\n"
     ]
    }
   ],
   "execution_count": 40
  },
  {
   "cell_type": "markdown",
   "metadata": {
    "id": "1HlpLjZ4qB5S"
   },
   "source": [
    "Task 2\n",
    "1. You task to write fully mirrorr decoder to the neural network and add missing parts to it to the SegNet (5 points)"
   ]
  },
  {
   "cell_type": "code",
   "metadata": {
    "id": "DLquE2brCvBI",
    "ExecuteTime": {
     "end_time": "2024-05-05T08:00:50.855008Z",
     "start_time": "2024-05-05T08:00:50.521028Z"
    }
   },
   "source": [
    "import torch\n",
    "import torch.nn as nn\n",
    "\n",
    "class SegNet(nn.Module):\n",
    "    def __init__(self, in_channels, out_channels):\n",
    "        super(SegNet, self).__init__()\n",
    "        self.encoder = nn.Sequential(\n",
    "            nn.Conv2d(in_channels, 64, kernel_size=3, padding=1),\n",
    "            nn.BatchNorm2d(64),\n",
    "            nn.ReLU(inplace=True),\n",
    "            nn.MaxPool2d(kernel_size=2, stride=2),\n",
    "            nn.Conv2d(64, 128, kernel_size=3, padding=1),\n",
    "            nn.BatchNorm2d(128),\n",
    "            nn.ReLU(inplace=True),\n",
    "            nn.MaxPool2d(kernel_size=2, stride=2),\n",
    "            nn.Conv2d(128, 256, kernel_size=3, padding=1),\n",
    "            nn.BatchNorm2d(256),\n",
    "            nn.ReLU(inplace=True),\n",
    "            nn.MaxPool2d(kernel_size=2, stride=2)\n",
    "        )\n",
    "\n",
    "        self.decoder = nn.Sequential(\n",
    "            nn.ConvTranspose2d(256, 128, kernel_size=3, padding=1),\n",
    "            nn.BatchNorm2d(128),\n",
    "            nn.ReLU(inplace=True),\n",
    "            nn.Upsample(scale_factor=2, mode='bilinear', align_corners=True),  # Альтернатива макс анпулинг\n",
    "            nn.ConvTranspose2d(128, 64, kernel_size=3, padding=1),\n",
    "            nn.BatchNorm2d(64),\n",
    "            nn.ReLU(inplace=True),\n",
    "            nn.Upsample(scale_factor=2, mode='bilinear', align_corners=True),\n",
    "            nn.ConvTranspose2d(64, out_channels, kernel_size=3, padding=1),\n",
    "            nn.BatchNorm2d(out_channels),\n",
    "            nn.ReLU(inplace=True),\n",
    "            nn.Upsample(scale_factor=2, mode='bilinear', align_corners=True)\n",
    "        )\n",
    "\n",
    "    def forward(self, x):\n",
    "        x = self.encoder(x)\n",
    "        x = self.decoder(x)\n",
    "        return x\n",
    "\n",
    "# Example usage\n",
    "num_classes = 1\n",
    "model = SegNet(in_channels=3, out_channels=num_classes).cuda()"
   ],
   "outputs": [],
   "execution_count": 41
  },
  {
   "cell_type": "code",
   "metadata": {
    "id": "1iZomPWYCwhp",
    "ExecuteTime": {
     "end_time": "2024-05-05T08:00:53.083335Z",
     "start_time": "2024-05-05T08:00:53.079757Z"
    }
   },
   "source": [
    "def dice_loss(pred, target):\n",
    "    pred = torch.sigmoid(pred)\n",
    "\n",
    "    pred = pred.contiguous().view(-1)\n",
    "    target = target.contiguous().view(-1)\n",
    "\n",
    "    intersection = torch.sum(pred * target)\n",
    "    pred_sum = torch.sum(pred * pred)\n",
    "    target_sum = torch.sum(target * target)\n",
    "\n",
    "    return 1 - ((2. * intersection + 1e-5) / (pred_sum + target_sum + 1e-5))"
   ],
   "outputs": [],
   "execution_count": 42
  },
  {
   "cell_type": "code",
   "metadata": {
    "id": "VbuACgs3CyL6",
    "ExecuteTime": {
     "end_time": "2024-05-05T08:00:58.971811Z",
     "start_time": "2024-05-05T08:00:58.967789Z"
    }
   },
   "source": [
    "criterion = dice_loss\n",
    "optimizer = SGD(model.parameters(), lr=1e-2, momentum=0.9, weight_decay=1e-4)"
   ],
   "outputs": [],
   "execution_count": 43
  },
  {
   "cell_type": "code",
   "metadata": {
    "id": "4Sf_GEcwC0Aq",
    "ExecuteTime": {
     "end_time": "2024-05-05T08:08:13.549598Z",
     "start_time": "2024-05-05T08:08:13.547598Z"
    }
   },
   "source": "",
   "outputs": [],
   "execution_count": 60
  },
  {
   "cell_type": "code",
   "metadata": {
    "colab": {
     "base_uri": "https://localhost:8080/"
    },
    "id": "kUHanvZBntJB",
    "outputId": "dfd87ef1-580b-4f0a-9f5c-8cccd96f143c",
    "ExecuteTime": {
     "end_time": "2024-05-05T08:08:15.175426Z",
     "start_time": "2024-05-05T08:08:15.173208Z"
    }
   },
   "source": "",
   "outputs": [
    {
     "name": "stdout",
     "output_type": "stream",
     "text": [
      "torch.Size([4, 1, 64, 64])\n"
     ]
    }
   ],
   "execution_count": 61
  },
  {
   "cell_type": "markdown",
   "metadata": {
    "id": "CJ6XCLGwqiuy"
   },
   "source": [
    "Task 3:\n",
    "<br> Add visualisation on val (test) set (2 points)"
   ]
  },
  {
   "cell_type": "code",
   "metadata": {
    "colab": {
     "base_uri": "https://localhost:8080/"
    },
    "id": "t7p4Lr9nC2Ef",
    "outputId": "6ff1dfac-ea56-494b-9a93-853f93f24880",
    "ExecuteTime": {
     "end_time": "2024-05-05T08:22:06.361570Z",
     "start_time": "2024-05-05T08:21:57.120301Z"
    }
   },
   "source": [
    "losses = []\n",
    "vlosses = []\n",
    "n_epoch = 10\n",
    "start_time = time.time()\n",
    "\n",
    "for epoch_num in range(n_epoch):\n",
    "    loss_ = []\n",
    "    vloss_ = []\n",
    "    for i_batch, sampled_batch in enumerate(train_loader):\n",
    "        image_batch, label_batch = sampled_batch\n",
    "        #print(image_batch)\n",
    "        image_batch = image_batch.float()\n",
    "        image_batch, label_batch = image_batch.cuda(), label_batch.cuda()\n",
    "        outputs = model(image_batch)\n",
    "        outputs = torch.squeeze(outputs, 1)\n",
    "        loss = criterion(outputs, label_batch.float())\n",
    "        optimizer.zero_grad()\n",
    "        loss.backward()\n",
    "        optimizer.step()\n",
    "        loss_.append(loss.item())\n",
    "    losses.append(np.mean(loss_,axis = 0))\n",
    "    print('train epoch ',epoch_num)\n",
    "    print('-------- train dice ce total', np.mean(loss_,axis = 0))\n",
    "\n",
    "    model.eval()\n",
    "    with torch.no_grad():\n",
    "        for i_batch, sampled_batch in enumerate(val_loader):\n",
    "            image_batch, label_batch = sampled_batch\n",
    "            image_batch = image_batch.float()\n",
    "            image_batch, label_batch = image_batch.cuda(), label_batch.cuda()\n",
    "            outputs = model(image_batch)\n",
    "            outputs = torch.squeeze(outputs, 1)\n",
    "            vloss = criterion(outputs, label_batch.float())\n",
    "            vloss_.append(vloss.item())\n",
    "\n",
    "    vlosses.append(np.mean(vloss_))\n",
    "    print('Validation epoch', epoch_num, '| Loss:', np.mean(vloss_))\n",
    "\n",
    "end_time = time.time()\n",
    "print(\"Total training time: {:.2f} seconds\".format(end_time - start_time))"
   ],
   "outputs": [
    {
     "name": "stdout",
     "output_type": "stream",
     "text": [
      "train epoch  0\n",
      "-------- train dice ce total 0.6296346938610077\n",
      "Validation epoch 0 | Loss: 0.6005927300453187\n",
      "train epoch  1\n",
      "-------- train dice ce total 0.6291605827212333\n",
      "Validation epoch 1 | Loss: 0.5867951238155364\n",
      "train epoch  2\n",
      "-------- train dice ce total 0.6283502343297005\n",
      "Validation epoch 2 | Loss: 0.5874741518497467\n",
      "train epoch  3\n",
      "-------- train dice ce total 0.6276905333995819\n",
      "Validation epoch 3 | Loss: 0.5936350893974304\n",
      "train epoch  4\n",
      "-------- train dice ce total 0.6281486609578133\n",
      "Validation epoch 4 | Loss: 0.5942026925086975\n",
      "train epoch  5\n",
      "-------- train dice ce total 0.6266799512505531\n",
      "Validation epoch 5 | Loss: 0.588933116197586\n",
      "train epoch  6\n",
      "-------- train dice ce total 0.6282048985362053\n",
      "Validation epoch 6 | Loss: 0.5944628822803497\n",
      "train epoch  7\n",
      "-------- train dice ce total 0.6270446765422821\n",
      "Validation epoch 7 | Loss: 0.5888868856430054\n",
      "train epoch  8\n",
      "-------- train dice ce total 0.626631638109684\n",
      "Validation epoch 8 | Loss: 0.5942702186107636\n",
      "train epoch  9\n",
      "-------- train dice ce total 0.6259091246128082\n",
      "Validation epoch 9 | Loss: 0.5970184552669525\n",
      "Total training time: 9.24 seconds\n"
     ]
    }
   ],
   "execution_count": 81
  },
  {
   "metadata": {
    "ExecuteTime": {
     "end_time": "2024-05-05T08:22:08.691296Z",
     "start_time": "2024-05-05T08:22:08.688470Z"
    }
   },
   "cell_type": "code",
   "source": "len(losses), len(vlosses), n_epoch + 1\n",
   "outputs": [
    {
     "data": {
      "text/plain": [
       "(10, 10, 11)"
      ]
     },
     "execution_count": 82,
     "metadata": {},
     "output_type": "execute_result"
    }
   ],
   "execution_count": 82
  },
  {
   "cell_type": "code",
   "metadata": {
    "colab": {
     "base_uri": "https://localhost:8080/",
     "height": 472
    },
    "id": "ycT7y-ivC4N_",
    "outputId": "01b2356e-e167-4c82-e460-9245c1600d3d",
    "ExecuteTime": {
     "end_time": "2024-05-05T08:22:10.756215Z",
     "start_time": "2024-05-05T08:22:10.464822Z"
    }
   },
   "source": [
    "# Create a range of epochs for x-axis\n",
    "epochs = range(1, len(losses) + 1)\n",
    "\n",
    "# Plot training and validation losses on the same graph\n",
    "plt.plot(epochs, losses, label='Training Loss')\n",
    "plt.plot(epochs, vlosses, label='Validation Loss')\n",
    "\n",
    "# Add labels and title\n",
    "plt.xlabel('Epochs')\n",
    "plt.ylabel('Loss')\n",
    "plt.title('Training and Validation Losses over Epochs')\n",
    "\n",
    "# Add legend\n",
    "plt.legend()\n",
    "\n",
    "# Show the plot\n",
    "plt.show()"
   ],
   "outputs": [
    {
     "data": {
      "text/plain": [
       "<Figure size 640x480 with 1 Axes>"
      ],
      "image/png": "[encoded data removed]"
     },
     "metadata": {},
     "output_type": "display_data"
    }
   ],
   "execution_count": 83
  },
  {
   "cell_type": "code",
   "metadata": {
    "colab": {
     "base_uri": "https://localhost:8080/"
    },
    "id": "KzQTGg0aC6jC",
    "outputId": "1466898d-0924-437e-9bb5-038e386adbe0",
    "ExecuteTime": {
     "end_time": "2024-05-05T08:22:17.668612Z",
     "start_time": "2024-05-05T08:22:17.664811Z"
    }
   },
   "source": [
    "model.eval()"
   ],
   "outputs": [
    {
     "data": {
      "text/plain": [
       "SegNet(\n",
       "  (encoder): Sequential(\n",
       "    (0): Conv2d(3, 64, kernel_size=(3, 3), stride=(1, 1), padding=(1, 1))\n",
       "    (1): BatchNorm2d(64, eps=1e-05, momentum=0.1, affine=True, track_running_stats=True)\n",
       "    (2): ReLU(inplace=True)\n",
       "    (3): MaxPool2d(kernel_size=2, stride=2, padding=0, dilation=1, ceil_mode=False)\n",
       "    (4): Conv2d(64, 128, kernel_size=(3, 3), stride=(1, 1), padding=(1, 1))\n",
       "    (5): BatchNorm2d(128, eps=1e-05, momentum=0.1, affine=True, track_running_stats=True)\n",
       "    (6): ReLU(inplace=True)\n",
       "    (7): MaxPool2d(kernel_size=2, stride=2, padding=0, dilation=1, ceil_mode=False)\n",
       "    (8): Conv2d(128, 256, kernel_size=(3, 3), stride=(1, 1), padding=(1, 1))\n",
       "    (9): BatchNorm2d(256, eps=1e-05, momentum=0.1, affine=True, track_running_stats=True)\n",
       "    (10): ReLU(inplace=True)\n",
       "    (11): MaxPool2d(kernel_size=2, stride=2, padding=0, dilation=1, ceil_mode=False)\n",
       "  )\n",
       "  (decoder): Sequential(\n",
       "    (0): ConvTranspose2d(256, 128, kernel_size=(3, 3), stride=(1, 1), padding=(1, 1))\n",
       "    (1): BatchNorm2d(128, eps=1e-05, momentum=0.1, affine=True, track_running_stats=True)\n",
       "    (2): ReLU(inplace=True)\n",
       "    (3): Upsample(scale_factor=2.0, mode='bilinear')\n",
       "    (4): ConvTranspose2d(128, 64, kernel_size=(3, 3), stride=(1, 1), padding=(1, 1))\n",
       "    (5): BatchNorm2d(64, eps=1e-05, momentum=0.1, affine=True, track_running_stats=True)\n",
       "    (6): ReLU(inplace=True)\n",
       "    (7): Upsample(scale_factor=2.0, mode='bilinear')\n",
       "    (8): ConvTranspose2d(64, 1, kernel_size=(3, 3), stride=(1, 1), padding=(1, 1))\n",
       "    (9): BatchNorm2d(1, eps=1e-05, momentum=0.1, affine=True, track_running_stats=True)\n",
       "    (10): ReLU(inplace=True)\n",
       "    (11): Upsample(scale_factor=2.0, mode='bilinear')\n",
       "  )\n",
       ")"
      ]
     },
     "execution_count": 84,
     "metadata": {},
     "output_type": "execute_result"
    }
   ],
   "execution_count": 84
  },
  {
   "cell_type": "code",
   "metadata": {
    "id": "WeBtMqXsC8hh",
    "ExecuteTime": {
     "end_time": "2024-05-05T08:22:19.453822Z",
     "start_time": "2024-05-05T08:22:19.451401Z"
    }
   },
   "source": [
    "d = []"
   ],
   "outputs": [],
   "execution_count": 85
  },
  {
   "cell_type": "code",
   "metadata": {
    "id": "k-nwL0MrC_Fh",
    "ExecuteTime": {
     "end_time": "2024-05-05T08:22:19.461794Z",
     "start_time": "2024-05-05T08:22:19.453822Z"
    }
   },
   "source": [
    "def one_mask(img):\n",
    "    img = (img-np.min(img))/(np.max(img)-np.min(img))\n",
    "    img = img.astype(np.float64)\n",
    "    img = transforms.ToTensor()(img)\n",
    "    img = img.unsqueeze(0)\n",
    "    #img = torch.unsqueeze(img, 0)\n",
    "    img = img.float()\n",
    "    #print(img)\n",
    "    img = img.cuda()\n",
    "    outputs = model(img)\n",
    "    #outputs = torch.sigmoid(outputs)\n",
    "    try:\n",
    "        mask_pred = ((outputs.cpu().detach().numpy() >0.5)**2)\n",
    "    except:\n",
    "        mask_pred = np.zeros([128,128])\n",
    "    return img.cpu().detach().numpy(), mask_pred"
   ],
   "outputs": [],
   "execution_count": 86
  },
  {
   "cell_type": "code",
   "metadata": {
    "colab": {
     "base_uri": "https://localhost:8080/"
    },
    "id": "CvjxUHWTNQkH",
    "outputId": "35dc624d-8d5c-4d57-b850-8d87a708d1b9",
    "ExecuteTime": {
     "end_time": "2024-05-05T08:22:21.171356Z",
     "start_time": "2024-05-05T08:22:21.167975Z"
    }
   },
   "source": [
    "X_train[0].shape"
   ],
   "outputs": [
    {
     "data": {
      "text/plain": [
       "(64, 64, 3)"
      ]
     },
     "execution_count": 87,
     "metadata": {},
     "output_type": "execute_result"
    }
   ],
   "execution_count": 87
  },
  {
   "cell_type": "code",
   "metadata": {
    "colab": {
     "base_uri": "https://localhost:8080/",
     "height": 450
    },
    "id": "PelBw03UDCjl",
    "outputId": "0d459615-0d5e-4fd7-cbd4-34d5493f9889",
    "ExecuteTime": {
     "end_time": "2024-05-05T08:22:22.971904Z",
     "start_time": "2024-05-05T08:22:22.917838Z"
    }
   },
   "source": [
    "plt.imshow(X_train[10])"
   ],
   "outputs": [
    {
     "data": {
      "text/plain": [
       "<matplotlib.image.AxesImage at 0x2868e48a850>"
      ]
     },
     "execution_count": 88,
     "metadata": {},
     "output_type": "execute_result"
    },
    {
     "data": {
      "text/plain": [
       "<Figure size 640x480 with 1 Axes>"
      ],
      "image/png": "[encoded data removed]"
     },
     "metadata": {},
     "output_type": "display_data"
    }
   ],
   "execution_count": 88
  },
  {
   "cell_type": "code",
   "metadata": {
    "colab": {
     "base_uri": "https://localhost:8080/",
     "height": 450
    },
    "id": "06pX5-6OMCaj",
    "outputId": "cc553274-579e-4fdb-f8de-9c379780694d",
    "ExecuteTime": {
     "end_time": "2024-05-05T08:22:23.027674Z",
     "start_time": "2024-05-05T08:22:22.971904Z"
    }
   },
   "source": [
    "plt.imshow(mask[10])"
   ],
   "outputs": [
    {
     "data": {
      "text/plain": [
       "<matplotlib.image.AxesImage at 0x2868cc97d90>"
      ]
     },
     "execution_count": 89,
     "metadata": {},
     "output_type": "execute_result"
    },
    {
     "data": {
      "text/plain": [
       "<Figure size 640x480 with 1 Axes>"
      ],
      "image/png": "[encoded data removed]"
     },
     "metadata": {},
     "output_type": "display_data"
    }
   ],
   "execution_count": 89
  },
  {
   "cell_type": "code",
   "metadata": {
    "id": "yjcJObd4DEFF",
    "ExecuteTime": {
     "end_time": "2024-05-05T09:00:31.106041Z",
     "start_time": "2024-05-05T09:00:31.102016Z"
    }
   },
   "source": [
    "import numpy as np\n",
    "\n",
    "def calculate_dice_coefficient(mask_true, mask_pred):\n",
    "    intersection = np.sum(mask_true * mask_pred)\n",
    "    union = np.sum(mask_true) + np.sum(mask_pred)\n",
    "\n",
    "    dice_coefficient = (2.0 * intersection) / (union + 1e-8)  # Добавляем маленькое значение для избежания деления на ноль\n",
    "\n",
    "    return dice_coefficient\n",
    "\n",
    "def precision_score(groundtruth_mask, pred_mask):\n",
    "    intersect = np.sum(pred_mask*groundtruth_mask)\n",
    "    total_pixel_pred = np.sum(pred_mask)\n",
    "    \n",
    "    if total_pixel_pred == 0: return 0.0\n",
    "    \n",
    "    precision = np.mean(intersect/total_pixel_pred)\n",
    "    return round(precision, 3)\n",
    "\n",
    "def recall_score(groundtruth_mask, pred_mask):\n",
    "    intersect = np.sum(pred_mask*groundtruth_mask)\n",
    "    total_pixel_truth = np.sum(groundtruth_mask)\n",
    "    recall = np.mean(intersect/total_pixel_truth)\n",
    "    return round(recall, 3)\n",
    "\n",
    "def calculate_iou(mask_true, mask_pred):\n",
    "    intersection = np.sum(mask_true * mask_pred)\n",
    "    union = np.sum(mask_true) + np.sum(mask_pred) - intersection\n",
    "\n",
    "    iou = (intersection + 1e-8) / (union + 1e-8)  # Добавляем маленькое значение для избежания деления на ноль\n",
    "\n",
    "    return iou\n",
    "from scipy.spatial.distance import cdist\n",
    "\n",
    "def hausdorff_distance(mask1, mask2):\n",
    "    # Получение координат точек в масках\n",
    "    coords_mask1 = np.transpose(np.nonzero(mask1))\n",
    "    coords_mask2 = np.transpose(np.nonzero(mask2))\n",
    "\n",
    "    # Вычисление расстояний между всеми точками в двух масках\n",
    "    distances_mask1_to_mask2 = cdist(coords_mask1, coords_mask2)\n",
    "    distances_mask2_to_mask1 = cdist(coords_mask2, coords_mask1)\n",
    "\n",
    "    # Нахождение максимального расстояния для каждой маски\n",
    "    max_distance_mask1 = np.max(np.min(distances_mask1_to_mask2, axis=1))\n",
    "    max_distance_mask2 = np.max(np.min(distances_mask2_to_mask1, axis=1))\n",
    "\n",
    "    # Вычисление дистанции Хаусдорфа\n",
    "    hausdorff_distance = max(max_distance_mask1, max_distance_mask2)\n",
    "\n",
    "    return hausdorff_distance"
   ],
   "outputs": [],
   "execution_count": 107
  },
  {
   "cell_type": "code",
   "metadata": {
    "colab": {
     "base_uri": "https://localhost:8080/"
    },
    "id": "WpQyNGL5Hj07",
    "outputId": "5fa602d3-52a3-4d60-fe0f-69e95898e74a",
    "ExecuteTime": {
     "end_time": "2024-05-05T09:00:33.222621Z",
     "start_time": "2024-05-05T09:00:32.901823Z"
    }
   },
   "source": [
    "dice = []\n",
    "hd = []\n",
    "prec = []\n",
    "rec = []\n",
    "iou = []\n",
    "for ind,img in tqdm.tqdm(enumerate(X_test)):\n",
    "    _,mask_pred = one_mask(img)\n",
    "    mask_true = y_test[ind]\n",
    "    dice.append(calculate_dice_coefficient(mask_true, mask_pred))\n",
    "    prec.append(precision_score(mask_true, mask_pred))\n",
    "    rec.append(recall_score(mask_true, mask_pred))\n",
    "    iou.append(calculate_iou(mask_true, mask_pred))"
   ],
   "outputs": [
    {
     "name": "stderr",
     "output_type": "stream",
     "text": [
      "200it [00:00, 630.48it/s]\n"
     ]
    }
   ],
   "execution_count": 108
  },
  {
   "cell_type": "code",
   "metadata": {
    "colab": {
     "base_uri": "https://localhost:8080/"
    },
    "id": "Q3DuPA3LHnQO",
    "outputId": "99389549-b780-43c8-e4b1-26aa553d7083",
    "ExecuteTime": {
     "end_time": "2024-05-05T09:00:34.832443Z",
     "start_time": "2024-05-05T09:00:34.829334Z"
    }
   },
   "source": [
    "\n",
    "print(np.mean(dice))\n",
    "print(np.mean(iou))\n",
    "print(np.mean(prec))\n",
    "print(np.mean(rec))\n"
   ],
   "outputs": [
    {
     "name": "stdout",
     "output_type": "stream",
     "text": [
      "0.055848819459884604\n",
      "0.030416212199318574\n",
      "0.368435\n",
      "0.031380000000000005\n"
     ]
    }
   ],
   "execution_count": 109
  },
  {
   "cell_type": "code",
   "execution_count": null,
   "metadata": {
    "id": "muP2voBdiVPb"
   },
   "outputs": [],
   "source": []
  },
  {
   "cell_type": "markdown",
   "metadata": {
    "id": "EcqJ3t7kqxcA"
   },
   "source": [
    "Open questions: (5 points)\n",
    "<br> 1. Write the moticaiton and limits of data augmentation\n",
    "<br> 2. Describe the difference between object detection and image segmentation"
   ]
  },
  {
   "cell_type": "code",
   "execution_count": null,
   "metadata": {
    "id": "0Vy9NZ_nq9OI"
   },
   "outputs": [],
   "source": []
  }
 ],
 "metadata": {
  "accelerator": "GPU",
  "colab": {
   "provenance": []
  },
  "kernelspec": {
   "display_name": "Python 3 (ipykernel)",
   "language": "python",
   "name": "python3"
  },
  "language_info": {
   "codemirror_mode": {
    "name": "ipython",
    "version": 3
   },
   "file_extension": ".py",
   "mimetype": "text/x-python",
   "name": "python",
   "nbconvert_exporter": "python",
   "pygments_lexer": "ipython3",
   "version": "3.9.13"
  }
 },
 "nbformat": 4,
 "nbformat_minor": 1
}
