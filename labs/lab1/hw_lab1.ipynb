{
 "cells": [
  {
   "cell_type": "code",
   "outputs": [
    {
     "data": {
      "text/plain": "'Hello, world!'"
     },
     "execution_count": 71,
     "metadata": {},
     "output_type": "execute_result"
    }
   ],
   "source": [
    "\"Hello, world!\""
   ],
   "metadata": {
    "collapsed": false,
    "ExecuteTime": {
     "end_time": "2024-02-10T10:22:44.913320Z",
     "start_time": "2024-02-10T10:22:44.910736Z"
    }
   },
   "id": "b272a0a7d6fb5a35",
   "execution_count": 71
  },
  {
   "cell_type": "code",
   "outputs": [],
   "source": [
    "import pandas as pd\n",
    "import numpy as np\n",
    "from sklearn.model_selection import train_test_split\n",
    "from sklearn.preprocessing import StandardScaler\n",
    "import torch\n",
    "from LogisticRegressionModel import LogisticRegressionModel\n",
    "import torch.nn as nn\n",
    "import torch.optim as optim"
   ],
   "metadata": {
    "collapsed": false,
    "ExecuteTime": {
     "end_time": "2024-02-10T10:22:45.482846Z",
     "start_time": "2024-02-10T10:22:45.478545Z"
    }
   },
   "id": "66e00e6d00f475ea",
   "execution_count": 72
  },
  {
   "cell_type": "markdown",
   "source": [
    "# Reading data"
   ],
   "metadata": {
    "collapsed": false
   },
   "id": "86d1657e0da34d7d"
  },
  {
   "cell_type": "code",
   "outputs": [
    {
     "data": {
      "text/plain": "     Pregnancies  Glucose  BloodPressure  SkinThickness  Insulin   BMI  \\\n213            0      140             65             26      130  42.6   \n708            9      164             78              0        0  32.8   \n141            5      106             82             30        0  39.5   \n657            1      120             80             48      200  38.9   \n125            1       88             30             42       99  55.0   \n713            0      134             58             20      291  26.4   \n78             0      131              0              0        0  43.2   \n70             2      100             66             20       90  32.9   \n199            4      148             60             27      318  30.9   \n360            5      189             64             33      325  31.2   \n\n     DiabetesPedigreeFunction  Age  Outcome  \n213                     0.431   24        1  \n708                     0.148   45        1  \n141                     0.286   38        0  \n657                     1.162   41        0  \n125                     0.496   26        1  \n713                     0.352   21        0  \n78                      0.270   26        1  \n70                      0.867   28        1  \n199                     0.150   29        1  \n360                     0.583   29        1  ",
      "text/html": "<div>\n<style scoped>\n    .dataframe tbody tr th:only-of-type {\n        vertical-align: middle;\n    }\n\n    .dataframe tbody tr th {\n        vertical-align: top;\n    }\n\n    .dataframe thead th {\n        text-align: right;\n    }\n</style>\n<table border=\"1\" class=\"dataframe\">\n  <thead>\n    <tr style=\"text-align: right;\">\n      <th></th>\n      <th>Pregnancies</th>\n      <th>Glucose</th>\n      <th>BloodPressure</th>\n      <th>SkinThickness</th>\n      <th>Insulin</th>\n      <th>BMI</th>\n      <th>DiabetesPedigreeFunction</th>\n      <th>Age</th>\n      <th>Outcome</th>\n    </tr>\n  </thead>\n  <tbody>\n    <tr>\n      <th>213</th>\n      <td>0</td>\n      <td>140</td>\n      <td>65</td>\n      <td>26</td>\n      <td>130</td>\n      <td>42.6</td>\n      <td>0.431</td>\n      <td>24</td>\n      <td>1</td>\n    </tr>\n    <tr>\n      <th>708</th>\n      <td>9</td>\n      <td>164</td>\n      <td>78</td>\n      <td>0</td>\n      <td>0</td>\n      <td>32.8</td>\n      <td>0.148</td>\n      <td>45</td>\n      <td>1</td>\n    </tr>\n    <tr>\n      <th>141</th>\n      <td>5</td>\n      <td>106</td>\n      <td>82</td>\n      <td>30</td>\n      <td>0</td>\n      <td>39.5</td>\n      <td>0.286</td>\n      <td>38</td>\n      <td>0</td>\n    </tr>\n    <tr>\n      <th>657</th>\n      <td>1</td>\n      <td>120</td>\n      <td>80</td>\n      <td>48</td>\n      <td>200</td>\n      <td>38.9</td>\n      <td>1.162</td>\n      <td>41</td>\n      <td>0</td>\n    </tr>\n    <tr>\n      <th>125</th>\n      <td>1</td>\n      <td>88</td>\n      <td>30</td>\n      <td>42</td>\n      <td>99</td>\n      <td>55.0</td>\n      <td>0.496</td>\n      <td>26</td>\n      <td>1</td>\n    </tr>\n    <tr>\n      <th>713</th>\n      <td>0</td>\n      <td>134</td>\n      <td>58</td>\n      <td>20</td>\n      <td>291</td>\n      <td>26.4</td>\n      <td>0.352</td>\n      <td>21</td>\n      <td>0</td>\n    </tr>\n    <tr>\n      <th>78</th>\n      <td>0</td>\n      <td>131</td>\n      <td>0</td>\n      <td>0</td>\n      <td>0</td>\n      <td>43.2</td>\n      <td>0.270</td>\n      <td>26</td>\n      <td>1</td>\n    </tr>\n    <tr>\n      <th>70</th>\n      <td>2</td>\n      <td>100</td>\n      <td>66</td>\n      <td>20</td>\n      <td>90</td>\n      <td>32.9</td>\n      <td>0.867</td>\n      <td>28</td>\n      <td>1</td>\n    </tr>\n    <tr>\n      <th>199</th>\n      <td>4</td>\n      <td>148</td>\n      <td>60</td>\n      <td>27</td>\n      <td>318</td>\n      <td>30.9</td>\n      <td>0.150</td>\n      <td>29</td>\n      <td>1</td>\n    </tr>\n    <tr>\n      <th>360</th>\n      <td>5</td>\n      <td>189</td>\n      <td>64</td>\n      <td>33</td>\n      <td>325</td>\n      <td>31.2</td>\n      <td>0.583</td>\n      <td>29</td>\n      <td>1</td>\n    </tr>\n  </tbody>\n</table>\n</div>"
     },
     "metadata": {},
     "output_type": "display_data"
    }
   ],
   "source": [
    "data = pd.read_csv (\"data/diabetes.csv\")\n",
    "display(data.sample(10))"
   ],
   "metadata": {
    "collapsed": false,
    "ExecuteTime": {
     "end_time": "2024-02-10T10:22:45.959927Z",
     "start_time": "2024-02-10T10:22:45.953390Z"
    }
   },
   "id": "70105085f5bc80bb",
   "execution_count": 73
  },
  {
   "cell_type": "code",
   "outputs": [],
   "source": [
    "X = pd.DataFrame (data , columns = [\"Pregnancies\" , \"Glucose\" , \"BloodPressure\" , \"SkinThickness\" , \"Insulin\" , \"BMI\"\n",
    "    , \"DiabetesPedigreeFunction\" , \"Age\"])\n",
    "y = data.Outcome\n",
    "\n",
    "X_train , X_test , y_train , y_test = train_test_split (X , y , test_size = 0.25 , random_state = 0)\n",
    "\n",
    "scaler = StandardScaler()\n",
    "X_train = scaler.fit_transform(X_train)\n",
    "X_test = scaler.transform(X_test)\n",
    "X_train_tensor = torch.FloatTensor(X_train)\n",
    "y_train_tensor = torch.FloatTensor(y_train)"
   ],
   "metadata": {
    "collapsed": false,
    "ExecuteTime": {
     "end_time": "2024-02-10T10:22:46.405409Z",
     "start_time": "2024-02-10T10:22:46.401148Z"
    }
   },
   "id": "47bef7a756909043",
   "execution_count": 74
  },
  {
   "cell_type": "code",
   "outputs": [],
   "source": [
    "X_train_tensor = torch.tensor(X_train, dtype=torch.float32)\n",
    "y_train_tensor = torch.tensor(y_train, dtype=torch.float32).view(-1, 1)"
   ],
   "metadata": {
    "collapsed": false,
    "ExecuteTime": {
     "end_time": "2024-02-10T10:22:46.709646Z",
     "start_time": "2024-02-10T10:22:46.706311Z"
    }
   },
   "id": "f4c383e7a2302f89",
   "execution_count": 75
  },
  {
   "cell_type": "markdown",
   "source": [
    "# Define model"
   ],
   "metadata": {
    "collapsed": false
   },
   "id": "12aae2a1735d78a9"
  },
  {
   "cell_type": "code",
   "outputs": [],
   "source": [
    "input_size = X_train.shape[1]\n",
    "model = LogisticRegressionModel(input_size)\n",
    "criterion = nn.BCEWithLogitsLoss()\n",
    "optimizer = optim.SGD(model.parameters(), lr=0.01)"
   ],
   "metadata": {
    "collapsed": false,
    "ExecuteTime": {
     "end_time": "2024-02-10T10:22:47.592428Z",
     "start_time": "2024-02-10T10:22:47.589703Z"
    }
   },
   "id": "48a03d142632112e",
   "execution_count": 76
  },
  {
   "cell_type": "code",
   "outputs": [],
   "source": [],
   "metadata": {
    "collapsed": false,
    "ExecuteTime": {
     "end_time": "2024-02-10T10:22:48.014011Z",
     "start_time": "2024-02-10T10:22:48.011062Z"
    }
   },
   "id": "75ea3fe4b9bbb6fe",
   "execution_count": 76
  },
  {
   "cell_type": "markdown",
   "source": [
    "# Training loop"
   ],
   "metadata": {
    "collapsed": false
   },
   "id": "7b1b009a625c4a26"
  },
  {
   "cell_type": "code",
   "outputs": [
    {
     "name": "stdout",
     "output_type": "stream",
     "text": [
      "Epoch [100/2000], Loss: 0.8291\n",
      "Epoch [200/2000], Loss: 0.8195\n",
      "Epoch [300/2000], Loss: 0.8094\n",
      "Epoch [400/2000], Loss: 0.7989\n",
      "Epoch [500/2000], Loss: 0.7885\n",
      "Epoch [600/2000], Loss: 0.7783\n",
      "Epoch [700/2000], Loss: 0.7687\n",
      "Epoch [800/2000], Loss: 0.7600\n",
      "Epoch [900/2000], Loss: 0.7522\n",
      "Epoch [1000/2000], Loss: 0.7453\n",
      "Epoch [1100/2000], Loss: 0.7393\n",
      "Epoch [1200/2000], Loss: 0.7341\n",
      "Epoch [1300/2000], Loss: 0.7295\n",
      "Epoch [1400/2000], Loss: 0.7254\n",
      "Epoch [1500/2000], Loss: 0.7219\n",
      "Epoch [1600/2000], Loss: 0.7187\n",
      "Epoch [1700/2000], Loss: 0.7158\n",
      "Epoch [1800/2000], Loss: 0.7132\n",
      "Epoch [1900/2000], Loss: 0.7109\n",
      "Epoch [2000/2000], Loss: 0.7087\n"
     ]
    }
   ],
   "source": [
    "num_epochs = 2000\n",
    "for epoch in range(num_epochs):\n",
    "    # Forward pass\n",
    "    outputs = model(X_train_tensor)\n",
    "\n",
    "    # Compute the loss\n",
    "    loss = criterion(outputs, y_train_tensor)\n",
    "\n",
    "    # Backward pass and optimization\n",
    "    optimizer.zero_grad()\n",
    "    loss.backward()\n",
    "    optimizer.step()\n",
    "\n",
    "    # Print the loss every 100 epochs\n",
    "    if (epoch + 1) % 100 == 0:\n",
    "        print(f'Epoch [{epoch+1}/{num_epochs}], Loss: {loss.item():.4f}')"
   ],
   "metadata": {
    "collapsed": false,
    "ExecuteTime": {
     "end_time": "2024-02-10T10:22:49.004787Z",
     "start_time": "2024-02-10T10:22:48.789486Z"
    }
   },
   "id": "f9f4f7b8de8b07d5",
   "execution_count": 77
  },
  {
   "cell_type": "code",
   "outputs": [],
   "source": [],
   "metadata": {
    "collapsed": false,
    "ExecuteTime": {
     "end_time": "2024-02-10T10:22:50.057126Z",
     "start_time": "2024-02-10T10:22:50.053240Z"
    }
   },
   "id": "435c9be76266c564",
   "execution_count": 77
  },
  {
   "cell_type": "markdown",
   "source": [
    "# Test model predictions"
   ],
   "metadata": {
    "collapsed": false
   },
   "id": "6d9249d945dc5ffb"
  },
  {
   "cell_type": "code",
   "outputs": [
    {
     "name": "stdout",
     "output_type": "stream",
     "text": [
      "Test sigmoid: 0.7167\n"
     ]
    }
   ],
   "source": [
    "X_test_tensor = torch.tensor(X_test, dtype=torch.float32)\n",
    "y_test_tensor = torch.tensor(np.array(y_test), dtype=torch.float32).view(-1, 1)\n",
    "\n",
    "model.eval()\n",
    "with torch.no_grad():\n",
    "    predictions = model(X_test_tensor)\n",
    "    predicted_classes = (predictions >= 0.5).float()\n",
    "\n",
    "test_sigmoid = criterion(predictions, y_test_tensor)\n",
    "print(f'Test sigmoid: {test_sigmoid.item():.4f}')"
   ],
   "metadata": {
    "collapsed": false,
    "ExecuteTime": {
     "end_time": "2024-02-10T10:22:51.728913Z",
     "start_time": "2024-02-10T10:22:51.725619Z"
    }
   },
   "id": "1d0c0aae96620553",
   "execution_count": 78
  },
  {
   "cell_type": "code",
   "outputs": [],
   "source": [],
   "metadata": {
    "collapsed": false
   },
   "id": "9e8e1087efc960c1"
  }
 ],
 "metadata": {
  "kernelspec": {
   "display_name": "Python 3",
   "language": "python",
   "name": "python3"
  },
  "language_info": {
   "codemirror_mode": {
    "name": "ipython",
    "version": 2
   },
   "file_extension": ".py",
   "mimetype": "text/x-python",
   "name": "python",
   "nbconvert_exporter": "python",
   "pygments_lexer": "ipython2",
   "version": "2.7.6"
  }
 },
 "nbformat": 4,
 "nbformat_minor": 5
}
